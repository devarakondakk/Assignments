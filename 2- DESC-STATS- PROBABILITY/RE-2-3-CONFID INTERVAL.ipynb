{
 "cells": [
  {
   "cell_type": "markdown",
   "id": "61fe094c",
   "metadata": {},
   "source": [
    "# Q5 "
   ]
  },
  {
   "cell_type": "code",
   "execution_count": 1,
   "id": "032c642d",
   "metadata": {},
   "outputs": [
    {
     "data": {
      "text/plain": [
       "-0.820782681668124"
      ]
     },
     "execution_count": 1,
     "metadata": {},
     "output_type": "execute_result"
    }
   ],
   "source": [
    "import numpy as np\n",
    "from scipy import stats\n",
    "from scipy.stats import norm\n",
    "# Apply One-Sample One-Tail z-test\n",
    "z_scores=(0.046-0.05)/(np.sqrt((0.05*(1-0.05))/2000))\n",
    "z_scores"
   ]
  },
  {
   "cell_type": "code",
   "execution_count": 2,
   "id": "497fd5df",
   "metadata": {},
   "outputs": [
    {
     "data": {
      "text/plain": [
       "0.20582313410777142"
      ]
     },
     "execution_count": 2,
     "metadata": {},
     "output_type": "execute_result"
    }
   ],
   "source": [
    "p_value = stats.norm.sf(0.821)\n",
    "p_value"
   ]
  },
  {
   "cell_type": "code",
   "execution_count": 3,
   "id": "82b23687",
   "metadata": {},
   "outputs": [
    {
     "name": "stdout",
     "output_type": "stream",
     "text": [
      "No: Microsoft could not conclude that Mozilla has a less\n",
      "    than 5% share of the market even if the sample were \n",
      "    based on 2,000 users\n"
     ]
    }
   ],
   "source": [
    "if p_value>0.05:\n",
    "    print(\"\"\"No: Microsoft could not conclude that Mozilla has a less\n",
    "    than 5% share of the market even if the sample were \n",
    "    based on 2,000 users\"\"\")\n",
    "else:\n",
    "    print(\"Yes\")"
   ]
  },
  {
   "cell_type": "code",
   "execution_count": null,
   "id": "07a589a6",
   "metadata": {},
   "outputs": [],
   "source": []
  }
 ],
 "metadata": {
  "kernelspec": {
   "display_name": "Python 3 (ipykernel)",
   "language": "python",
   "name": "python3"
  },
  "language_info": {
   "codemirror_mode": {
    "name": "ipython",
    "version": 3
   },
   "file_extension": ".py",
   "mimetype": "text/x-python",
   "name": "python",
   "nbconvert_exporter": "python",
   "pygments_lexer": "ipython3",
   "version": "3.9.16"
  }
 },
 "nbformat": 4,
 "nbformat_minor": 5
}
