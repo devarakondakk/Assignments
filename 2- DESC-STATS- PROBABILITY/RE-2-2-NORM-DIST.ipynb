{
 "cells": [
  {
   "cell_type": "code",
   "execution_count": 1,
   "id": "19408f50",
   "metadata": {},
   "outputs": [
    {
     "data": {
      "text/plain": [
       "0.625"
      ]
     },
     "execution_count": 1,
     "metadata": {},
     "output_type": "execute_result"
    }
   ],
   "source": [
    "from scipy import stats\n",
    "from scipy.stats import norm\n",
    "\n",
    "# Find Z-Score at X=60 using Z = (X - µ) / σ \n",
    "Z=(60-55)/8\n",
    "Z"
   ]
  },
  {
   "cell_type": "code",
   "execution_count": 2,
   "id": "2f0f7436",
   "metadata": {},
   "outputs": [
    {
     "data": {
      "text/plain": [
       "0.26598552904870054"
      ]
     },
     "execution_count": 2,
     "metadata": {},
     "output_type": "execute_result"
    }
   ],
   "source": [
    "# Probability of P(X>60)\n",
    "1-stats.norm.cdf(abs(0.625))"
   ]
  },
  {
   "cell_type": "markdown",
   "id": "69e9bde4",
   "metadata": {},
   "source": [
    "### This results in 0.265 Hence option B is the answer"
   ]
  },
  {
   "cell_type": "code",
   "execution_count": 6,
   "id": "161d7c9a",
   "metadata": {},
   "outputs": [
    {
     "data": {
      "text/plain": [
       "0.15865525393145707"
      ]
     },
     "execution_count": 6,
     "metadata": {},
     "output_type": "execute_result"
    }
   ],
   "source": [
    "PX44 = 1-stats.norm.cdf(44,loc=38,scale=6)\n",
    "PX44"
   ]
  },
  {
   "cell_type": "code",
   "execution_count": 7,
   "id": "d63bce80",
   "metadata": {},
   "outputs": [
    {
     "data": {
      "text/plain": [
       "0.3413447460685429"
      ]
     },
     "execution_count": 7,
     "metadata": {},
     "output_type": "execute_result"
    }
   ],
   "source": [
    "PX4438 = stats.norm.cdf(44,38,6)-stats.norm.cdf(38,38,6)\n",
    "PX4438"
   ]
  },
  {
   "cell_type": "code",
   "execution_count": 8,
   "id": "7a320427",
   "metadata": {},
   "outputs": [
    {
     "data": {
      "text/plain": [
       "0.09121121972586788"
      ]
     },
     "execution_count": 8,
     "metadata": {},
     "output_type": "execute_result"
    }
   ],
   "source": [
    "P30 = stats.norm.cdf(30,38,6)\n",
    "P30"
   ]
  },
  {
   "cell_type": "code",
   "execution_count": 9,
   "id": "1f937a5e",
   "metadata": {},
   "outputs": [
    {
     "data": {
      "text/plain": [
       "36.484487890347154"
      ]
     },
     "execution_count": 9,
     "metadata": {},
     "output_type": "execute_result"
    }
   ],
   "source": [
    "#ATTENDING EMPLOYEES UNDER 30 FROM 400TOTAL\n",
    "EXP = 400*stats.norm.cdf(30,38,6)\n",
    "EXP"
   ]
  },
  {
   "cell_type": "markdown",
   "id": "9bdb50da",
   "metadata": {},
   "source": [
    "## q4"
   ]
  },
  {
   "cell_type": "code",
   "execution_count": 14,
   "id": "df8f8a7a",
   "metadata": {},
   "outputs": [
    {
     "name": "stdout",
     "output_type": "stream",
     "text": [
      "The two values of a and b, symmetric about the mean, \n",
      "      are such that the probability of the random variable \n",
      "      taking a value between them is 0.99: [ 48.5 151.5]\n"
     ]
    }
   ],
   "source": [
    "import numpy as np\n",
    "print(\"\"\"The two values of a and b, symmetric about the mean, \n",
    "      are such that the probability of the random variable \n",
    "      taking a value between them is 0.99:\"\"\",np.round(stats.norm.interval(0.99, loc = 100, scale = 20),1))"
   ]
  },
  {
   "cell_type": "markdown",
   "id": "411934f4",
   "metadata": {},
   "source": [
    "# q5"
   ]
  },
  {
   "cell_type": "code",
   "execution_count": 15,
   "id": "6f980151",
   "metadata": {},
   "outputs": [
    {
     "name": "stdout",
     "output_type": "stream",
     "text": [
      "Mean Profit is Rs 540 Million\n"
     ]
    }
   ],
   "source": [
    "# Mean profits from two different divisions of a company = Mean1 + Mean2\n",
    "Mean = 5+7\n",
    "print('Mean Profit is Rs', Mean*45,'Million')"
   ]
  },
  {
   "cell_type": "code",
   "execution_count": 16,
   "id": "c56db610",
   "metadata": {},
   "outputs": [
    {
     "name": "stdout",
     "output_type": "stream",
     "text": [
      "Standard Deviation is Rs 225.0 Million\n"
     ]
    }
   ],
   "source": [
    "\n",
    "# Variance of profits from two different divisions of a company = SD^2 = SD1^2 + SD2^2\n",
    "SD = np.sqrt((9)+(16))\n",
    "print('Standard Deviation is Rs', SD*45, 'Million')\n"
   ]
  },
  {
   "cell_type": "code",
   "execution_count": 17,
   "id": "89914131",
   "metadata": {},
   "outputs": [
    {
     "name": "stdout",
     "output_type": "stream",
     "text": [
      "Range is Rs (99.00810347848784, 980.9918965215122) in Millions\n"
     ]
    }
   ],
   "source": [
    "\n",
    "# A. Specify a Rupee range (centered on the mean) such that it contains 95% probability for the annual profit of the company.\n",
    "print('Range is Rs',(stats.norm.interval(0.95,540,225)),'in Millions')\n"
   ]
  },
  {
   "cell_type": "code",
   "execution_count": 18,
   "id": "b4ee3175",
   "metadata": {},
   "outputs": [
    {
     "name": "stdout",
     "output_type": "stream",
     "text": [
      "5th percentile of profit (in Million Rupees) is 170.0\n"
     ]
    }
   ],
   "source": [
    "\n",
    "# B. Specify the 5th percentile of profit (in Rupees) for the company\n",
    "# To compute 5th Percentile, we use the formula X=μ + Zσ; wherein from z table, 5 percentile = -1.645\n",
    "X= 540+(-1.645)*(225)\n",
    "print('5th percentile of profit (in Million Rupees) is',np.round(X,))"
   ]
  },
  {
   "cell_type": "code",
   "execution_count": 19,
   "id": "0ff9643e",
   "metadata": {},
   "outputs": [
    {
     "data": {
      "text/plain": [
       "0.0477903522728147"
      ]
     },
     "execution_count": 19,
     "metadata": {},
     "output_type": "execute_result"
    }
   ],
   "source": [
    "# C. Which of the two divisions has a larger probability of making a loss in a given year?\n",
    "# Probability of Division 1 making a loss P(X<0)\n",
    "stats.norm.cdf(0,5,3)"
   ]
  },
  {
   "cell_type": "code",
   "execution_count": 20,
   "id": "c79be32b",
   "metadata": {},
   "outputs": [
    {
     "data": {
      "text/plain": [
       "0.040059156863817086"
      ]
     },
     "execution_count": 20,
     "metadata": {},
     "output_type": "execute_result"
    }
   ],
   "source": [
    "# Probability of Division 2 making a loss P(X<0)\n",
    "stats.norm.cdf(0,7,4)"
   ]
  },
  {
   "cell_type": "code",
   "execution_count": null,
   "id": "5da5293c",
   "metadata": {},
   "outputs": [],
   "source": []
  }
 ],
 "metadata": {
  "kernelspec": {
   "display_name": "Python 3 (ipykernel)",
   "language": "python",
   "name": "python3"
  },
  "language_info": {
   "codemirror_mode": {
    "name": "ipython",
    "version": 3
   },
   "file_extension": ".py",
   "mimetype": "text/x-python",
   "name": "python",
   "nbconvert_exporter": "python",
   "pygments_lexer": "ipython3",
   "version": "3.9.16"
  }
 },
 "nbformat": 4,
 "nbformat_minor": 5
}
