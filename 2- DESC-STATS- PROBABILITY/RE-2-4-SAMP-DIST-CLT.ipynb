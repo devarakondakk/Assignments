{
 "cells": [
  {
   "cell_type": "code",
   "execution_count": 1,
   "id": "843f7a2b",
   "metadata": {},
   "outputs": [
    {
     "data": {
      "text/plain": [
       "-1.25"
      ]
     },
     "execution_count": 1,
     "metadata": {},
     "output_type": "execute_result"
    }
   ],
   "source": [
    "import numpy as np\n",
    "# z-scores at x=45; \n",
    "# z=(s_mean-P_mean)/(p_SD/sqrt(n))\n",
    "z1=(45-50)/(40/100**0.5)\n",
    "z1\n"
   ]
  },
  {
   "cell_type": "code",
   "execution_count": 2,
   "id": "b2ebb800",
   "metadata": {},
   "outputs": [
    {
     "data": {
      "text/plain": [
       "1.25"
      ]
     },
     "execution_count": 2,
     "metadata": {},
     "output_type": "execute_result"
    }
   ],
   "source": [
    "# z-scores at x=55; z=(s_mean-P_mean)/(p_SD/sqrt(n))\n",
    "z2=(55-50)/(40/100**0.5)\n",
    "z2"
   ]
  },
  {
   "cell_type": "code",
   "execution_count": 3,
   "id": "148b44df",
   "metadata": {},
   "outputs": [
    {
     "data": {
      "text/plain": [
       "0.7887004526662893"
      ]
     },
     "execution_count": 3,
     "metadata": {},
     "output_type": "execute_result"
    }
   ],
   "source": [
    "# For  investigation not done P(45<X<55)\n",
    "# For  investigation not done  P(45<X<55) using z_scores = P(X<50)-P(X<45)\n",
    "from scipy import stats\n",
    "stats.norm.cdf(z2)-stats.norm.cdf(z1)"
   ]
  },
  {
   "cell_type": "code",
   "execution_count": 5,
   "id": "fc089292",
   "metadata": {},
   "outputs": [
    {
     "name": "stdout",
     "output_type": "stream",
     "text": [
      "the probability that there will be an investigation 21.130000000000003\n"
     ]
    }
   ],
   "source": [
    "\n",
    "# For Investigation done 1-P(45<X<55)\n",
    "print (\"the probability that there will be an investigation\",(1-0.7887)*100)\n"
   ]
  },
  {
   "cell_type": "markdown",
   "id": "c3c53ea9",
   "metadata": {},
   "source": [
    "## 21.13%"
   ]
  },
  {
   "cell_type": "code",
   "execution_count": null,
   "id": "2d4586b4",
   "metadata": {},
   "outputs": [],
   "source": []
  }
 ],
 "metadata": {
  "kernelspec": {
   "display_name": "Python 3 (ipykernel)",
   "language": "python",
   "name": "python3"
  },
  "language_info": {
   "codemirror_mode": {
    "name": "ipython",
    "version": 3
   },
   "file_extension": ".py",
   "mimetype": "text/x-python",
   "name": "python",
   "nbconvert_exporter": "python",
   "pygments_lexer": "ipython3",
   "version": "3.9.16"
  }
 },
 "nbformat": 4,
 "nbformat_minor": 5
}
